{
  "nbformat": 4,
  "nbformat_minor": 0,
  "metadata": {
    "accelerator": "GPU",
    "colab": {
      "name": "cGAN",
      "provenance": [],
      "collapsed_sections": [],
      "authorship_tag": "ABX9TyP0FzbrV+O4OytCQsmAIZNl",
      "include_colab_link": true
    },
    "kernelspec": {
      "display_name": "Python 3",
      "name": "python3"
    },
    "language_info": {
      "name": "python"
    }
  },
  "cells": [
    {
      "cell_type": "markdown",
      "metadata": {
        "id": "view-in-github",
        "colab_type": "text"
      },
      "source": [
        "<a href=\"https://colab.research.google.com/github/minhluu99/minhluu99/blob/main/cGANv2.ipynb\" target=\"_parent\"><img src=\"https://colab.research.google.com/assets/colab-badge.svg\" alt=\"Open In Colab\"/></a>"
      ]
    },
    {
      "cell_type": "markdown",
      "metadata": {
        "id": "4AuO0Fh0uqsS"
      },
      "source": [
        "Mô hình C-GAN sử dụng nền tảng tensorflow, source code được phát triển từ bài hướng dẫn DCGAN của tensorflow"
      ]
    },
    {
      "cell_type": "markdown",
      "metadata": {
        "id": "6A52B-9Ju_Jc"
      },
      "source": [
        "# **Kết nối Drive**"
      ]
    },
    {
      "cell_type": "code",
      "metadata": {
        "colab": {
          "base_uri": "https://localhost:8080/"
        },
        "id": "45slCewgpiAg",
        "outputId": "35f8694e-7cf9-42a4-c9d1-c3d6d718577b"
      },
      "source": [
        "from google.colab import drive\n",
        "drive.mount('/content/drive')"
      ],
      "execution_count": null,
      "outputs": [
        {
          "output_type": "stream",
          "text": [
            "Mounted at /content/drive\n"
          ],
          "name": "stdout"
        }
      ]
    },
    {
      "cell_type": "markdown",
      "metadata": {
        "id": "7R02_giwuqpm"
      },
      "source": [
        "# **Setup**"
      ]
    },
    {
      "cell_type": "markdown",
      "metadata": {
        "id": "NYAk02Q1viD9"
      },
      "source": [
        "## **Lib**"
      ]
    },
    {
      "cell_type": "code",
      "metadata": {
        "id": "pCdpn4dDqCzh"
      },
      "source": [
        "import numpy as np\n",
        "import tensorflow as tf\n",
        "from tensorflow.keras import layers\n",
        "import matplotlib.pyplot as plt\n",
        "import PIL\n",
        "from PIL import Image\n",
        "import time\n",
        "import os\n",
        "import json\n",
        "\n",
        "from IPython import display"
      ],
      "execution_count": null,
      "outputs": []
    },
    {
      "cell_type": "markdown",
      "metadata": {
        "id": "gWMk2-ykwMWQ"
      },
      "source": [
        "# **Prepare CoCo**"
      ]
    },
    {
      "cell_type": "code",
      "metadata": {
        "colab": {
          "base_uri": "https://localhost:8080/"
        },
        "id": "h0cmjCwYyJkk",
        "outputId": "e1eaf5e9-1aa4-4782-de37-2f56896a0b12"
      },
      "source": [
        "# Kiểm tra thư mục làm việc hiện tại\n",
        "print(\"Vị trí thư mục làm việc hiện tại là       : \" + os.getcwd())\n",
        "Y_N = input(\"nhấn 1 là có                        : \" )\n",
        "if Y_N ==  \"1\":\n",
        "  os.chdir('/content')\n",
        "  print('thư mục làm việc hiện tại là            : ' + os.getcwd())\n",
        "else:\n",
        "  print(' đã từ chối chuyển đến \\'content\\' ')"
      ],
      "execution_count": null,
      "outputs": [
        {
          "output_type": "stream",
          "text": [
            "Vị trí thư mục làm việc hiện tại là       : /content\n",
            "nhấn 1 là có                        : n\n",
            " đã từ chối chuyển đến 'content' \n"
          ],
          "name": "stdout"
        }
      ]
    },
    {
      "cell_type": "code",
      "metadata": {
        "id": "w7vfkvgKrYCa",
        "colab": {
          "base_uri": "https://localhost:8080/"
        },
        "outputId": "db26b253-93fb-4321-8151-a259a544b71c"
      },
      "source": [
        "# Download instance annotation files\n",
        "annotation_folder = '/annotations/'\n",
        "if not os.path.exists(os.path.abspath('.') + annotation_folder):\n",
        "  annotation_zip = tf.keras.utils.get_file('captions.zip',\n",
        "                                           cache_subdir=os.path.abspath('.'),\n",
        "                                           origin='http://images.cocodataset.org/annotations/annotations_trainval2014.zip',\n",
        "                                           extract=True)\n",
        "  os.remove(annotation_zip)\n",
        "caption_file = os.path.abspath('.') + '/annotations/captions_train2014.json'\n",
        "instance_file = os.path.abspath('.') + '/annotations/instances_train2014.json'"
      ],
      "execution_count": null,
      "outputs": [
        {
          "output_type": "stream",
          "text": [
            "Downloading data from http://images.cocodataset.org/annotations/annotations_trainval2014.zip\n",
            "252878848/252872794 [==============================] - 6s 0us/step\n",
            "252887040/252872794 [==============================] - 6s 0us/step\n"
          ],
          "name": "stdout"
        }
      ]
    },
    {
      "cell_type": "markdown",
      "metadata": {
        "id": "P1X_IGOCwumc"
      },
      "source": [
        "## ***enter image_folder address***"
      ]
    },
    {
      "cell_type": "code",
      "metadata": {
        "id": "mSp4Vm-wwsbt",
        "colab": {
          "base_uri": "https://localhost:8080/"
        },
        "outputId": "d7d374ff-d4f3-46bd-9ad0-433f8cedddc8"
      },
      "source": [
        "image_folder = \"/content/drive/MyDrive/GAN_image\"\n",
        "while os.path.exists(image_folder) == 0:\n",
        "  print(\" không có thư mục này hoặc thư mục đã bị xóa !!!\")\n",
        "  print(\" Hãy kiểm tra lại kết nối tới Drive             \")\n",
        "  image_folder = input(\"nhập lại địa chỉ mới: \")\n",
        "  if image_folder == 'n':\n",
        "    print(\"\\nBạn đã từ chối nhập địa chỉ\")\n",
        "    break\n",
        "if os.path.exists(image_folder) == 1:\n",
        "  print('\\nĐã cập nhập thư mục ảnh : ' + image_folder)"
      ],
      "execution_count": null,
      "outputs": [
        {
          "output_type": "stream",
          "text": [
            "\n",
            "Đã cập nhập thư mục ảnh : /content/drive/MyDrive/GAN_image\n"
          ],
          "name": "stdout"
        }
      ]
    },
    {
      "cell_type": "code",
      "metadata": {
        "colab": {
          "base_uri": "https://localhost:8080/"
        },
        "id": "siWAoGMmuX6D",
        "outputId": "e8099fbd-6ee0-4959-d36a-b4061baf9e2a"
      },
      "source": [
        "imgId = []\n",
        "for i in os.listdir(image_folder):\n",
        "  if i == '.DS_Store':\n",
        "    continue\n",
        "  i = i.replace('COCO_train2014_','')\n",
        "  i = i.replace('.jpg','')\n",
        "  imgId.append(int(i))\n",
        "print('số hình ảnh kiếm được: {}'.format(len(imgId)))\n",
        "print(imgId[0])"
      ],
      "execution_count": null,
      "outputs": [
        {
          "output_type": "stream",
          "text": [
            "số hình ảnh kiếm được: 2737\n",
            "260393\n"
          ],
          "name": "stdout"
        }
      ]
    },
    {
      "cell_type": "markdown",
      "metadata": {
        "id": "SP4L3vJg6uvj"
      },
      "source": [
        "## **get_cat_or_cap**"
      ]
    },
    {
      "cell_type": "code",
      "metadata": {
        "id": "9R4hxrrKru6S"
      },
      "source": [
        "with open(instance_file, 'r') as f:\n",
        "    cat_json = json.load(f)"
      ],
      "execution_count": null,
      "outputs": []
    },
    {
      "cell_type": "code",
      "metadata": {
        "id": "suvT9mH2sAkq",
        "colab": {
          "base_uri": "https://localhost:8080/"
        },
        "outputId": "618cd036-6e8b-4664-b344-ce47caa9e3fe"
      },
      "source": [
        "CatNa = []\n",
        "CatId  = []\n",
        "for val in cat_json['categories']:\n",
        "  if val['supercategory'] in ['furniture']:\n",
        "    CatNa.append(val['name'])\n",
        "    CatId.append(val['id'])\n",
        "print(CatId)\n",
        "print(CatNa)"
      ],
      "execution_count": null,
      "outputs": [
        {
          "output_type": "stream",
          "text": [
            "[62, 63, 64, 65, 67, 70]\n",
            "['chair', 'couch', 'potted plant', 'bed', 'dining table', 'toilet']\n"
          ],
          "name": "stdout"
        }
      ]
    },
    {
      "cell_type": "code",
      "metadata": {
        "id": "v_rWuLJ-NuQH"
      },
      "source": [
        "CatNa =['chair', 'couch', 'potted plant', 'bed', 'dining table', 'toilet']\n",
        "CatId  = [62, 63, 64, 65, 67, 70]"
      ],
      "execution_count": null,
      "outputs": []
    },
    {
      "cell_type": "code",
      "metadata": {
        "id": "F6Ex5LW6zTds",
        "colab": {
          "base_uri": "https://localhost:8080/"
        },
        "outputId": "d030a176-9b67-4cd4-a4c7-05a4ba8fc414"
      },
      "source": [
        "cat_ID = []\n",
        "img_ID = []\n",
        "for val in cat_json['annotations']:\n",
        "  if val['category_id'] in CatId:\n",
        "    if val['image_id'] in imgId:\n",
        "      img_ID.append(val['image_id'])\n",
        "      for i in range(len(CatId)):\n",
        "        if val['category_id'] == CatId[i]:\n",
        "          cat_ID.append(i)\n",
        "print(\"Số lượng ảnh và nhãn            : \" + str(len(img_ID)) + \" - \" +str(len(cat_ID)))\n",
        "print(\"Đã chuyển số ID của category về : \" + str(max(cat_ID)) + \" - \" +str(min(cat_ID)))"
      ],
      "execution_count": null,
      "outputs": [
        {
          "output_type": "stream",
          "text": [
            "Số lượng ảnh và nhãn            : 8307 - 8307\n",
            "Đã chuyển số ID của category về : 5 - 0\n"
          ],
          "name": "stdout"
        }
      ]
    },
    {
      "cell_type": "markdown",
      "metadata": {
        "id": "J6NajETLS3re"
      },
      "source": [
        "## **tensorflow_dataset**"
      ]
    },
    {
      "cell_type": "code",
      "metadata": {
        "id": "_kD-jVEO_Ba-"
      },
      "source": [
        "def map_ID_to_array(img_id,cap_or_cat):\n",
        "  # Map ID to Addr\n",
        "  image_path = os.path.join(image_folder , 'COCO_train2014_' + '%012d.jpg' % img_ID[0])\n",
        "  # Map Addr to Img\n",
        "  img = Image.open(image_path)\n",
        "  img = img.resize((64,64))\n",
        "  img_array = np.array(img).astype('float32')\n",
        "  img_array = img_array/255 -1\n",
        "  return img_array,cap_or_cat"
      ],
      "execution_count": null,
      "outputs": []
    },
    {
      "cell_type": "code",
      "metadata": {
        "id": "GuAwN_bcAGwx"
      },
      "source": [
        "BUFFER_SIZE = len(img_ID)\n",
        "BATCH_SIZE = 256\n",
        "dataset = tf.data.Dataset.from_tensor_slices((img_ID, cat_ID))\n",
        "\n",
        "# Use map to load the numpy files in parallel\n",
        "dataset = dataset.map(lambda item1, item2: tf.numpy_function(\n",
        "          map_ID_to_array, [item1, item2], [tf.float32, tf.int32]),\n",
        "          num_parallel_calls=tf.data.AUTOTUNE)\n",
        "dataset = dataset.shuffle(BUFFER_SIZE).batch(BATCH_SIZE)"
      ],
      "execution_count": null,
      "outputs": []
    },
    {
      "cell_type": "markdown",
      "metadata": {
        "id": "FfGiVFjYq9iK"
      },
      "source": [
        "# **Build_model**"
      ]
    },
    {
      "cell_type": "markdown",
      "metadata": {
        "id": "9nRfqiaerGmH"
      },
      "source": [
        "## **Generator**"
      ]
    },
    {
      "cell_type": "code",
      "metadata": {
        "id": "yqYbHzKEq8V7"
      },
      "source": [
        "# yều cầu là tạo ra hình ảnh 64x64x3\n",
        "def make_generator_model(n_classes = 6):\n",
        "    in_label = layers.Input(shape=(1,))\n",
        "    li = layers.Embedding(n_classes, 50)(in_label)\n",
        "    n_nodes = 8 * 8\n",
        "    li = layers.Dense(n_nodes, use_bias= False)(li)\n",
        "    li = layers.Reshape((8, 8, 1))(li)\n",
        "\n",
        "\n",
        "    input_latent = layers.Input(shape=(100, ))\n",
        "    g_lay = layers.Dense(256 * 8 * 8, use_bias=False)\n",
        "    g_lay = g_lay(input_latent)\n",
        "    g_lay = layers.BatchNormalization()(g_lay)\n",
        "    g_lay = layers.LeakyReLU()(g_lay)\n",
        "\n",
        "    g_lay = layers.Reshape((8, 8, 256))(g_lay)\n",
        "    assert tuple(g_lay.shape) == (None, 8, 8, 256)\n",
        "    merge = layers.Concatenate()([g_lay, li])\n",
        "    # Note: None is the batch size\n",
        "    #lệnh assert dùng để kiểm tra output, nếu output không như mong muốn\n",
        "    #nó sẽ báo lỗi tại đây\n",
        "\n",
        "    g_lay = layers.Conv2DTranspose(128, (5, 5), strides=(1, 1), padding='same', use_bias=False)(merge)\n",
        "    assert tuple(g_lay.shape) == (None, 8, 8, 128)\n",
        "    g_lay = layers.BatchNormalization()(g_lay)\n",
        "    g_lay = layers.LeakyReLU()(g_lay)\n",
        "    \n",
        "\n",
        "    g_lay = layers.Conv2DTranspose(64, (5, 5), strides=(2, 2), padding='same', use_bias=False)(g_lay)\n",
        "    assert tuple(g_lay.shape) == (None, 16, 16, 64)\n",
        "    g_lay = layers.BatchNormalization()(g_lay)\n",
        "    g_lay = layers.LeakyReLU()(g_lay)\n",
        "\n",
        "    g_lay = layers.Conv2DTranspose(32, (5, 5), strides=(2, 2), padding='same', use_bias=False)(g_lay)\n",
        "    assert tuple(g_lay.shape) == (None, 32, 32, 32)\n",
        "    g_lay = layers.BatchNormalization()(g_lay)\n",
        "    g_lay = layers.LeakyReLU()(g_lay)\n",
        "\n",
        "    out_lay = layers.Conv2DTranspose(3, (5, 5), strides=(2, 2), padding='same', use_bias=False, activation= 'tanh')(g_lay)\n",
        "    assert tuple(out_lay.shape) == (None, 64, 64, 3)\n",
        "\n",
        "    return tf.keras.Model([input_latent,in_label],out_lay)"
      ],
      "execution_count": null,
      "outputs": []
    },
    {
      "cell_type": "code",
      "metadata": {
        "id": "xxDWQql5Uc_7",
        "colab": {
          "base_uri": "https://localhost:8080/",
          "height": 285
        },
        "outputId": "a5019cce-12ff-45e7-c193-0cfcebcc3e8d"
      },
      "source": [
        "generator = make_generator_model()\n",
        "noise = tf.random.normal([1, 100])\n",
        "generated_image = generator([noise,np.array([1])], training=False)\n",
        "plt.imshow(generated_image[0, :, :, 0], cmap='gray')"
      ],
      "execution_count": null,
      "outputs": [
        {
          "output_type": "execute_result",
          "data": {
            "text/plain": [
              "<matplotlib.image.AxesImage at 0x7fa84297e9d0>"
            ]
          },
          "metadata": {
            "tags": []
          },
          "execution_count": 15
        },
        {
          "output_type": "display_data",
          "data": {
            "image/png": "[encoded data removed]",
            "text/plain": [
              "<Figure size 432x288 with 1 Axes>"
            ]
          },
          "metadata": {
            "tags": [],
            "needs_background": "light"
          }
        }
      ]
    },
    {
      "cell_type": "markdown",
      "metadata": {
        "id": "K5QRrlyV28zk"
      },
      "source": [
        "## **Discriminator**"
      ]
    },
    {
      "cell_type": "code",
      "metadata": {
        "id": "qthDFJkK_FXI"
      },
      "source": [
        "def make_discriminator_model(n_classes=6):\n",
        "    in_label = layers.Input(shape=(1,))\n",
        "    li = layers.Embedding(n_classes, 50)(in_label)\n",
        "    n_nodes = 64 * 64\n",
        "    li = layers.Dense(n_nodes, use_bias= False)(li)\n",
        "    li = layers.Reshape((64, 64, 1))(li)\n",
        "\n",
        "    input = layers.Input(shape = (64,64,3))\n",
        "    d_lay = layers.Concatenate()([input,li])\n",
        "    d_lay = layers.Conv2D(64, (5, 5), strides=(2, 2), padding='same')(d_lay)\n",
        "    assert tuple(d_lay.shape) == (None,32,32,64)\n",
        "    d_lay = layers.LeakyReLU()(d_lay)\n",
        "    d_lay = layers.Dropout(0.3)(d_lay)\n",
        "\n",
        "    d_lay = layers.Conv2D(128, (5, 5), strides=(2, 2), padding='same')(d_lay)\n",
        "    assert tuple(d_lay.shape) == (None,16,16,128)\n",
        "    d_lay = layers.LeakyReLU()(d_lay)\n",
        "    d_lay = layers.Dropout(0.3)(d_lay)\n",
        "\n",
        "    d_lay = layers.Conv2D(256, (5, 5), strides=(2, 2), padding='same')(d_lay)\n",
        "    assert tuple(d_lay.shape) == (None,8,8,256)\n",
        "    d_lay = layers.LeakyReLU()(d_lay)\n",
        "    d_lay = layers.Dropout(0.3)(d_lay)\n",
        "\n",
        "    d_lay = layers.Flatten()(d_lay)\n",
        "    out_lay = layers.Dense(1)(d_lay)\n",
        "\n",
        "    return tf.keras.Model([input,in_label],out_lay)"
      ],
      "execution_count": null,
      "outputs": []
    },
    {
      "cell_type": "code",
      "metadata": {
        "id": "s9yFzCd7DMHM",
        "colab": {
          "base_uri": "https://localhost:8080/"
        },
        "outputId": "a4a04512-92c3-4ffc-b00c-edda1562a316"
      },
      "source": [
        "discriminator = make_discriminator_model()\n",
        "decision = discriminator([generated_image,np.array([1])])\n",
        "print (decision)"
      ],
      "execution_count": null,
      "outputs": [
        {
          "output_type": "stream",
          "text": [
            "tf.Tensor([[-0.00010186]], shape=(1, 1), dtype=float32)\n"
          ],
          "name": "stdout"
        }
      ]
    },
    {
      "cell_type": "markdown",
      "metadata": {
        "id": "_kqooSaH7t7D"
      },
      "source": [
        "## **Define the loss and optimizers**"
      ]
    },
    {
      "cell_type": "code",
      "metadata": {
        "id": "DYsMjxXV71sq"
      },
      "source": [
        "# This method returns a helper function to compute cross entropy loss\n",
        "cross_entropy = tf.keras.losses.BinaryCrossentropy(from_logits=True)"
      ],
      "execution_count": null,
      "outputs": []
    },
    {
      "cell_type": "code",
      "metadata": {
        "id": "LHuvTnGY736L"
      },
      "source": [
        "# Discriminator_loss\n",
        "def discriminator_loss(real_output, fake_output):\n",
        "    real_loss = cross_entropy(tf.ones_like(real_output), real_output)\n",
        "    fake_loss = cross_entropy(tf.zeros_like(fake_output), fake_output)\n",
        "    total_loss = real_loss + fake_loss\n",
        "    return total_loss"
      ],
      "execution_count": null,
      "outputs": []
    },
    {
      "cell_type": "code",
      "metadata": {
        "id": "uwLy62KH737G"
      },
      "source": [
        "# Generator_loss\n",
        "def generator_loss(fake_output):\n",
        "    return cross_entropy(tf.ones_like(fake_output), fake_output)"
      ],
      "execution_count": null,
      "outputs": []
    },
    {
      "cell_type": "code",
      "metadata": {
        "id": "nYRbS6zp8fwr"
      },
      "source": [
        "# Optimizer\n",
        "generator_optimizer = tf.keras.optimizers.Adam(1e-4)\n",
        "discriminator_optimizer = tf.keras.optimizers.Adam(1e-4)"
      ],
      "execution_count": null,
      "outputs": []
    },
    {
      "cell_type": "markdown",
      "metadata": {
        "id": "PTJ1RYAq8oOD"
      },
      "source": [
        "# **Save_checkpoints**"
      ]
    },
    {
      "cell_type": "code",
      "metadata": {
        "id": "0QIcLhv-8uQT"
      },
      "source": [
        "checkpoint_dir = '../content/drive/MyDrive/series_GAN/c_gan'\n",
        "checkpoint_prefix = os.path.join(checkpoint_dir, \"ckpt\")\n",
        "checkpoint = tf.train.Checkpoint(generator_optimizer=generator_optimizer,\n",
        "                                 discriminator_optimizer=discriminator_optimizer,\n",
        "                                 generator=generator,\n",
        "                                 discriminator=discriminator)\n",
        "\n"
      ],
      "execution_count": null,
      "outputs": []
    },
    {
      "cell_type": "markdown",
      "metadata": {
        "id": "_ewRV25X99pp"
      },
      "source": [
        "# **The training loop**"
      ]
    },
    {
      "cell_type": "code",
      "metadata": {
        "id": "67xSsr-F98N6",
        "colab": {
          "base_uri": "https://localhost:8080/"
        },
        "outputId": "decb9552-a5d5-4019-dd19-4794c57fdf1e"
      },
      "source": [
        "EPOCHS = 300\n",
        "noise_dim = 100\n",
        "num_examples_to_generate = 3*6\n",
        "\n",
        "# You will reuse this seed overtime (so it's easier)\n",
        "# to visualize progress in the animated GIF)\n",
        "seed_image = tf.random.normal([num_examples_to_generate, noise_dim])\n",
        "seed_label = np.asarray([x for _ in range(3) for x in range(6)])\n",
        "print('shape of seed_image: {}'.format(seed_image.shape))\n",
        "print('shape of seed_label: {}'.format(seed_label.shape))\n",
        "print('content of seed_label: ')\n",
        "print(seed_label)"
      ],
      "execution_count": null,
      "outputs": [
        {
          "output_type": "stream",
          "text": [
            "shape of seed_image: (18, 100)\n",
            "shape of seed_label: (18,)\n",
            "content of seed_label: \n",
            "[0 1 2 3 4 5 0 1 2 3 4 5 0 1 2 3 4 5]\n"
          ],
          "name": "stdout"
        }
      ]
    },
    {
      "cell_type": "code",
      "metadata": {
        "id": "rkK7qwxkUk1f"
      },
      "source": [
        "for images,labels in dataset:\n",
        "  images.shape\n",
        "  labels.shape"
      ],
      "execution_count": null,
      "outputs": []
    },
    {
      "cell_type": "code",
      "metadata": {
        "id": "NpJQWv8G-5-q"
      },
      "source": [
        "# Notice the use of `tf.function`\n",
        "# This annotation causes the function to be \"compiled\".\n",
        "@tf.function\n",
        "def train_step(images,labels):\n",
        "    noise = tf.random.normal([labels.shape[0], noise_dim])\n",
        "    with tf.GradientTape() as gen_tape, tf.GradientTape() as disc_tape:\n",
        "      generated_images = generator([noise,labels], training=True)\n",
        "      \n",
        "      real_output = discriminator([images,labels], training=True)\n",
        "\n",
        "      fake_output = discriminator([generated_images,labels], training=True)\n",
        "\n",
        "      gen_loss = generator_loss(fake_output)\n",
        "      disc_loss = discriminator_loss(real_output, fake_output)\n",
        "\n",
        "    gradients_of_generator = gen_tape.gradient(gen_loss, generator.trainable_variables)\n",
        "    gradients_of_discriminator = disc_tape.gradient(disc_loss, discriminator.trainable_variables)\n",
        "\n",
        "    generator_optimizer.apply_gradients(zip(gradients_of_generator, generator.trainable_variables))\n",
        "    discriminator_optimizer.apply_gradients(zip(gradients_of_discriminator, discriminator.trainable_variables))\n",
        "    return [gen_loss,disc_loss]"
      ],
      "execution_count": null,
      "outputs": []
    },
    {
      "cell_type": "code",
      "metadata": {
        "id": "S30aeMqucbtl"
      },
      "source": [
        "def generate_and_save_images(model, epoch, test_input,label,restore):\n",
        "  # Notice `training` is set to False.\n",
        "  # This is so all layers run in inference mode (batchnorm).\n",
        "  predictions = model([test_input,label], training=False)\n",
        "\n",
        "  fig = plt.figure(figsize=(12, 12))\n",
        "\n",
        "  for i in range(predictions.shape[0]):\n",
        "      plt.subplot(3, 6, i+1,)\n",
        "      plt.title(CatNa[i%6])\n",
        "      plt.imshow(predictions[i, :, :, 0] * 127.5 + 127.5)\n",
        "      plt.axis('off')\n",
        "  plt.savefig('../content/drive/MyDrive/series_GAN/img_save_loss/image_at_epoch_{:02d}_{:04d}.png'.format(restore,epoch))\n",
        "  plt.show()"
      ],
      "execution_count": null,
      "outputs": []
    },
    {
      "cell_type": "code",
      "metadata": {
        "id": "rwApTZcwc44U"
      },
      "source": [
        "def save_loss(D_loss,G_loss,stt,restore):\n",
        "  if restore ==0:\n",
        "    mode = 'w+'\n",
        "  else:\n",
        "    mode = 'a+'\n",
        "  with open('../content/drive/MyDrive/series_GAN/img_save_loss/loss.txt','w+') as f:\n",
        "      for i in D_loss:\n",
        "        f.write('D{}--'.format(i))\n",
        "      for i in G_loss:\n",
        "        f.write('G{}--'.format(i))\n",
        "      for i in stt:\n",
        "        f.write('s{}--'.format(i))"
      ],
      "execution_count": null,
      "outputs": []
    },
    {
      "cell_type": "code",
      "metadata": {
        "id": "wrOWdMr7aFCN"
      },
      "source": [
        "def train(dataset, epochs,restore = 0):\n",
        "  # check checkpoint restore\n",
        "  if restore == 1 :\n",
        "    if tf.train.latest_checkpoint(checkpoint_dir) != None:\n",
        "      checkpoint.restore(tf.train.latest_checkpoint(checkpoint_dir))\n",
        "      print(\"Restored from {}\".format(tf.train.latest_checkpoint(checkpoint_dir)))\n",
        "      restore = int(tf.train.latest_checkpoint(checkpoint_dir)[-1])\n",
        "      try:\n",
        "        restore = int(tf.train.latest_checkpoint(checkpoint_dir)[-2:])\n",
        "      finally:\n",
        "        restore = int(tf.train.latest_checkpoint(checkpoint_dir)[-1])\n",
        "    else:\n",
        "      print('couldn''t find the last checkpoint')\n",
        "      ans = input('press ''n'' if you don''t want to train from scratch: ')\n",
        "      if ans == 'n':\n",
        "        print('ok, you don''t want to train ')\n",
        "        return\n",
        "      else:\n",
        "        print('train from scratch')\n",
        "        restore = 0\n",
        "  else:\n",
        "    print('train from scratch')\n",
        "  \n",
        "  #train_model\n",
        "  Discriminator_loss = []\n",
        "  Generator_loss = []\n",
        "  m_epoch = []\n",
        "  for epoch in range(epochs):\n",
        "    start = time.time()\n",
        "\n",
        "    for image_batch,labels in dataset:\n",
        "      gen_loss,disc_loss = train_step(image_batch,labels)\n",
        "\n",
        "    # Produce images for the GIF as you go\n",
        "    display.clear_output(wait=True)\n",
        "    generate_and_save_images(generator,\n",
        "                             epoch + 1,\n",
        "                             seed_image,seed_label,restore)\n",
        "    print ('Time for epoch {} is {} sec'.format(epoch + 1, time.time()-start))\n",
        "    print ('D_loss : {} || G_loss: {}'.format(disc_loss,gen_loss))\n",
        "    \n",
        "    # Save the model every 20 epochs\n",
        "    if (epoch + 1) % 20 == 0:\n",
        "      checkpoint.save(file_prefix = checkpoint_prefix)\n",
        "      Discriminator_loss.append(disc_loss)\n",
        "      Generator_loss.append(gen_loss)\n",
        "      m_epoch.append(epoch)\n",
        "    \n",
        "  # Generate after the final epoch\n",
        "  display.clear_output(wait=True)\n",
        "  generate_and_save_images(generator,\n",
        "                           epochs,\n",
        "                           seed_image,seed_label,restore)\n",
        "  save_loss(Discriminator_loss,Generator_loss,m_epoch,restore)"
      ],
      "execution_count": null,
      "outputs": []
    },
    {
      "cell_type": "markdown",
      "metadata": {
        "id": "1x8iUBaoipw7"
      },
      "source": [
        "# **Train_model**"
      ]
    },
    {
      "cell_type": "code",
      "metadata": {
        "id": "spP_KYcri9rl"
      },
      "source": [
        "train(dataset, EPOCHS)"
      ],
      "execution_count": null,
      "outputs": []
    },
    {
      "cell_type": "markdown",
      "metadata": {
        "id": "xpKdEi5BafpI"
      },
      "source": [
        "# **Restore_train_model**"
      ]
    },
    {
      "cell_type": "code",
      "metadata": {
        "id": "Fox7m2fxajGL"
      },
      "source": [
        "# train(dataset, EPOCHS,restore=1)"
      ],
      "execution_count": null,
      "outputs": []
    },
    {
      "cell_type": "markdown",
      "metadata": {
        "id": "6ZXaD0qbLSkB"
      },
      "source": [
        "# **show_img_result**"
      ]
    },
    {
      "cell_type": "code",
      "metadata": {
        "id": "cEOpA02JBDXn"
      },
      "source": [
        "def generate_and_show_images(model, test_input,label):\n",
        "  # Notice `training` is set to False.\n",
        "  # This is so all layers run in inference mode (batchnorm).\n",
        "  predictions = model([test_input,label], training=False)\n",
        "\n",
        "  fig = plt.figure(figsize=(12, 12))\n",
        "\n",
        "  for i in range(predictions.shape[0]):\n",
        "      plt.subplot(3, 6, i+1,)\n",
        "      plt.title(CatNa[i%6])\n",
        "      plt.imshow(predictions[i, :, :, 0] * 127.5 + 127.5)\n",
        "      plt.axis('off')\n",
        "  plt.show()\n",
        "\n",
        "checkpoint.restore(tf.train.latest_checkpoint(checkpoint_dir))\n",
        "\n",
        "seed_image = tf.random.normal([num_examples_to_generate, noise_dim])\n",
        "seed_label = np.asarray([x for _ in range(3) for x in range(6)])\n",
        "print('shape of seed_image: {}'.format(seed_image.shape))\n",
        "print('shape of seed_label: {}'.format(seed_label.shape))\n",
        "print('content of seed_label: ')\n",
        "print(seed_label)\n",
        "generate_and_show_images(generator,seed_image,seed_label)"
      ],
      "execution_count": null,
      "outputs": []
    }
  ]
}